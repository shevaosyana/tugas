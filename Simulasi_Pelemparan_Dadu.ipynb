{
  "nbformat": 4,
  "nbformat_minor": 0,
  "metadata": {
    "colab": {
      "provenance": [],
      "authorship_tag": "ABX9TyPOa26YKz5EpF+ymh8+TWYM",
      "include_colab_link": true
    },
    "kernelspec": {
      "name": "python3",
      "display_name": "Python 3"
    },
    "language_info": {
      "name": "python"
    }
  },
  "cells": [
    {
      "cell_type": "markdown",
      "metadata": {
        "id": "view-in-github",
        "colab_type": "text"
      },
      "source": [
        "<a href=\"https://colab.research.google.com/github/shevaosyana/tugas/blob/main/Simulasi_Pelemparan_Dadu.ipynb\" target=\"_parent\"><img src=\"https://colab.research.google.com/assets/colab-badge.svg\" alt=\"Open In Colab\"/></a>"
      ]
    },
    {
      "cell_type": "markdown",
      "source": [
        "Simulasi Pelemparan Dadu\n",
        "\n",
        "Model ini mensimulasikan pelemparan dadu berulang kali untuk memperkirakan probabilitas munculnya angka tertentu. Ini adalah contoh sederhana dari simulasi Monte Carlo, yang digunakan untuk memperkirakan hasil berdasarkan percobaan acak.\n",
        "\n",
        "Langkah-langkah:\n",
        "Simulasi Pelemparan Dadu: Peneliti menggunakan program komputer untuk mensimulasikan pelemparan dadu sebanyak 10.000 kali. Dalam simulasi ini, setiap pelemparan dadu akan menghasilkan salah satu angka antara 1 hingga 6.\n",
        "\n",
        "Menghitung Kemunculan Angka Tertentu: Setelah melakukan simulasi, peneliti ingin mengetahui berapa kali angka 6 muncul dalam 10.000 pelemparan dadu tersebut, dan menghitung probabilitas kemunculannya.\n",
        "\n",
        "Visualisasi Hasil: Peneliti juga ingin memvisualisasikan distribusi frekuensi kemunculan angka-angka pada dadu (1 hingga 6) selama simulasi.\n",
        "\n",
        "Tugas Anda:\n",
        "Hitung probabilitas kemunculan angka 6 berdasarkan simulasi di atas.\n",
        "Tentukan jumlah kemunculan angka 6 dalam 10.000 pelemparan dadu.\n",
        "Gambar histogram yang menunjukkan frekuensi kemunculan angka-angka pada dadu (1 hingga 6).\n",
        "Petunjuk:\n",
        "Gunakan fungsi np.random.randint() untuk menghasilkan angka acak antara 1 hingga 6.\n",
        "Gunakan fungsi np.sum() untuk menghitung jumlah kemunculan angka 6.\n",
        "Visualisasikan hasil dengan plt.hist() untuk membuat histogram dari hasil pelemparan dadu.\n",
        "\n",
        "Implementasi di Google Colab:"
      ],
      "metadata": {
        "id": "jkTN4gX3Zxtf"
      }
    },
    {
      "cell_type": "markdown",
      "source": [
        " Import Library:\n",
        "\n",
        "\n"
      ],
      "metadata": {
        "id": "NFp8X1MbcXvw"
      }
    },
    {
      "cell_type": "code",
      "source": [
        "import numpy as np\n",
        "import matplotlib.pyplot as plt\n"
      ],
      "metadata": {
        "id": "jA1CaTM5cfg4"
      },
      "execution_count": 1,
      "outputs": []
    },
    {
      "cell_type": "markdown",
      "source": [
        "\n",
        "Parameter Model:"
      ],
      "metadata": {
        "id": "aaT4XTq8ckTR"
      }
    },
    {
      "cell_type": "code",
      "source": [
        "n = 10000          # Jumlah pelemparan dadu\n",
        "faces = 7         # Jumlah sisi pada dadu\n",
        "target_face = 10    # Angka yang ingin dihitung frekuensinya\n"
      ],
      "metadata": {
        "id": "6JWg9vLocqvw"
      },
      "execution_count": 2,
      "outputs": []
    },
    {
      "cell_type": "markdown",
      "source": [
        "Simulasi Pelemparan Dadu\n",
        "\n",
        "\n",
        "\n",
        "\n",
        "\n",
        "\n",
        "\n",
        "\n"
      ],
      "metadata": {
        "id": "szvor88Acxe4"
      }
    },
    {
      "cell_type": "code",
      "source": [
        "throws = np.random.randint(1, faces + 1, size=n)\n"
      ],
      "metadata": {
        "id": "abWGFBLec1co"
      },
      "execution_count": 3,
      "outputs": []
    },
    {
      "cell_type": "markdown",
      "source": [
        "Hitung Jumlah Kemunculan Angka Target\n",
        "\n",
        "\n",
        "\n"
      ],
      "metadata": {
        "id": "4edoJefrdJao"
      }
    },
    {
      "cell_type": "code",
      "source": [
        "target_count = np.sum(throws == target_face)\n",
        "probability = target_count / n\n"
      ],
      "metadata": {
        "collapsed": true,
        "id": "RlMRYH3MdM3h"
      },
      "execution_count": 4,
      "outputs": []
    },
    {
      "cell_type": "markdown",
      "source": [
        "Tampilkan Hasil"
      ],
      "metadata": {
        "id": "SIm6GmQHk0vB"
      }
    },
    {
      "cell_type": "code",
      "source": [
        "print(f'Jumlah kemunculan angka {target_face}: {target_count} kali')\n",
        "print(f'Probabilitas kemunculan angka {target_face}: {probability:.4f}')\n"
      ],
      "metadata": {
        "colab": {
          "base_uri": "https://localhost:8080/"
        },
        "collapsed": true,
        "id": "4Go7IK8xsHrf",
        "outputId": "76b26003-1fcf-4459-9173-10dbb23fc573"
      },
      "execution_count": 5,
      "outputs": [
        {
          "output_type": "stream",
          "name": "stdout",
          "text": [
            "Jumlah kemunculan angka 10: 0 kali\n",
            "Probabilitas kemunculan angka 10: 0.0000\n"
          ]
        }
      ]
    },
    {
      "cell_type": "markdown",
      "source": [
        "Visualisasi Hasil Pelemparan Dadu"
      ],
      "metadata": {
        "id": "1o4_tSKWzMyB"
      }
    },
    {
      "cell_type": "code",
      "source": [
        "plt.hist(throws, bins=np.arange(0.5, faces + 1.5, 1), edgecolor='black', alpha=0.7)\n",
        "plt.title(f'Frekuensi Munculnya Angka pada {n} Pelemparan Dadu')\n",
        "plt.xlabel('Angka pada Dadu')\n",
        "plt.ylabel('Frekuensi')\n",
        "plt.xticks(np.arange(1, faces + 1))\n",
        "plt.grid(True)\n",
        "plt.show()\n"
      ],
      "metadata": {
        "colab": {
          "base_uri": "https://localhost:8080/",
          "height": 472
        },
        "collapsed": true,
        "id": "cspIeKZQzQ4p",
        "outputId": "085fba69-a6b9-4980-9621-df8a344bce38"
      },
      "execution_count": 6,
      "outputs": [
        {
          "output_type": "display_data",
          "data": {
            "text/plain": [
              "<Figure size 640x480 with 1 Axes>"
            ],
            "image/png": "[encoded data removed]"
          },
          "metadata": {}
        }
      ]
    }
  ]
}